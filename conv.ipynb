{
  "cells": [
    {
      "cell_type": "markdown",
      "metadata": {
        "id": "67z7qBDzSAQ-"
      },
      "source": [
        "<a href=\"https://colab.research.google.com/github/hikmatfarhat-ndu/parkinson/blob/main/conv.ipynb\" target=\"_parent\"><img src=\"https://colab.research.google.com/assets/colab-badge.svg\" alt=\"Open In Colab\"/></a>"
      ]
    },
    {
      "cell_type": "code",
      "execution_count": 6,
      "metadata": {
        "id": "HTsa4o4TAkhT"
      },
      "outputs": [],
      "source": [
        "import torch\n",
        "import torch.nn as nn\n",
        "import torch.nn.functional as F\n",
        "import torchvision as vision\n",
        "import torchvision.transforms as transforms\n",
        "from torch.utils.data import DataLoader\n",
        "from torchvision.datasets import ImageFolder\n",
        "from torch.optim import SGD,Adam\n",
        "from torch.utils.data import DataLoader,Dataset, random_split\n",
        "from tqdm import tqdm\n",
        "import numpy as np\n",
        "import matplotlib.pyplot as plt\n",
        "import seaborn as sb\n"
      ]
    },
    {
      "cell_type": "code",
      "source": [
        "try:\n",
        "  import torchmetrics\n",
        "  from torchmetrics.classification import BinaryAccuracy, BinaryConfusionMatrix,\\\n",
        "                                BinaryPrecision,BinaryRecall,BinaryROC,BinaryAUROC\n",
        "except:\n",
        "  !pip install torchmetrics\n",
        "  import torchmetrics\n",
        "  from torchmetrics.classification import BinaryAccuracy, BinaryConfusionMatrix,\\\n",
        "                                BinaryPrecision,BinaryRecall,BinaryROC,BinaryAUROC"
      ],
      "metadata": {
        "id": "Jk09hyS5SNtE"
      },
      "execution_count": 4,
      "outputs": []
    },
    {
      "cell_type": "code",
      "source": [
        "%%bash\n",
        "wget -q https://github.com/hikmatfarhat-ndu/parkinson/raw/main/ex1ConvertedImages.zip\n",
        "unzip -q ex1ConvertedImages.zip"
      ],
      "metadata": {
        "id": "MIGUgfiyUMfN"
      },
      "execution_count": 15,
      "outputs": []
    },
    {
      "cell_type": "code",
      "execution_count": 16,
      "metadata": {
        "id": "b1efaJWKSARB"
      },
      "outputs": [],
      "source": [
        "transform = transforms.ToTensor()\n",
        "dataset=ImageFolder(\"ex1ConvertedImages\",transform=transform)"
      ]
    },
    {
      "cell_type": "code",
      "execution_count": null,
      "metadata": {
        "id": "LW3DxMkuSARB"
      },
      "outputs": [],
      "source": [
        "\n",
        "\n",
        "class Net(nn.Module):\n",
        "  def __init__(self):\n",
        "    super().__init__()\n",
        "    # input is (*,3,512,512)\n",
        "    self.model=nn.Sequential(\n",
        "      nn.Conv2d(in_channels=3,out_channels=32,kernel_size=3),\n",
        "\n",
        "    # input is (*,32,510,510)\n",
        "      nn.MaxPool2d(kernel_size=(2,2)),\n",
        "# input is (*,32,255,255)\n",
        "      nn.Conv2d(in_channels=32,out_channels=64,kernel_size=3),\n",
        "      nn.ReLU(),\n",
        "    # input is (*,64,253,253)\n",
        "      nn.MaxPool2d(kernel_size=(2,2)),\n",
        "    # input is (*,64,126,126)\n",
        "      nn.Conv2d(in_channels=64,out_channels=128,kernel_size=3),\n",
        "      nn.ReLU(),\n",
        "    # input is (*,128,124,124)\n",
        "      nn.MaxPool2d(kernel_size=(2,2)),\n",
        "    # input is (*,128,62,62)\n",
        "      nn.Flatten(),\n",
        "    # input is (*,128x62x62)\n",
        "      nn.Linear(in_features=62*62*128,out_features=1)\n",
        "\n",
        "    )\n",
        "\n",
        "  def forward(self,x):\n",
        "    return self.model(x)"
      ]
    },
    {
      "cell_type": "code",
      "execution_count": null,
      "metadata": {
        "id": "h-3YH4KnSARB"
      },
      "outputs": [],
      "source": [
        "device='cuda' if torch.cuda.is_available() else 'cpu'\n"
      ]
    },
    {
      "cell_type": "code",
      "execution_count": null,
      "metadata": {
        "id": "51HsRreSSARC"
      },
      "outputs": [],
      "source": [
        "\n",
        "def get_accuracy(dataloader,model):\n",
        "  accuracy=BinaryAccuracy().to(device)\n",
        "#   total=len(dataloader)*dataloader.batch_size\n",
        "#   correct=0\n",
        "  for imgs,labels in dataloader:\n",
        "    imgs,labels=imgs.to(device),labels.to(device)\n",
        "    outputs=model(imgs)\n",
        "  # torchmetrics BinaryAccuracy automatically applies sigmoid\n",
        "  # and threshold of (default) 0.5\n",
        "    accuracy.update(outputs.squeeze(),labels)\n",
        "\n",
        "  return accuracy.compute().item()"
      ]
    },
    {
      "cell_type": "code",
      "execution_count": null,
      "metadata": {
        "id": "xotDFv5cSARC"
      },
      "outputs": [],
      "source": [
        "\n",
        "\n",
        "\n",
        "k=3\n",
        "acc_v=np.empty(k)\n",
        "auroc_v=np.empty(k)\n",
        "precision_v=np.empty(k)\n",
        "recall_v=np.empty(k)\n",
        "roc_v=[]\n",
        "conmat_v=[]"
      ]
    },
    {
      "cell_type": "code",
      "execution_count": null,
      "metadata": {
        "id": "Pw9nL36ZSARC"
      },
      "outputs": [],
      "source": [
        "for v in range(k):\n",
        "    accuracy=BinaryAccuracy().to(device)\n",
        "    conmat=BinaryConfusionMatrix().to(device)\n",
        "    precision=BinaryPrecision().to(device)\n",
        "    recall=BinaryRecall().to(device=device)\n",
        "    roc=BinaryROC().to(device=device)\n",
        "    auroc=BinaryAUROC().to(device=device)\n",
        "    print(f'Fold {v}')\n",
        "    print('---------------------')\n",
        "    print('---------------------')\n",
        "    model=Net().to(device)\n",
        "    optimizer=Adam(model.parameters())\n",
        "    loss_fn=nn.BCEWithLogitsLoss()\n",
        "    epochs=30\n",
        "    dataset_train,dataset_test=random_split(dataset,lengths=[0.8,0.2])\n",
        "    loader_train=DataLoader(dataset_train,batch_size=32,shuffle=True,num_workers=2)\n",
        "    loader_test=DataLoader(dataset_test,batch_size=16,shuffle=False)\n",
        "\n",
        "    for epoch in range(epochs):\n",
        "      loop=tqdm(loader_train)\n",
        "      loop.set_description(f\"Epoch [{epoch+1}/{epochs}]\")\n",
        "      epoch_loss=0.\n",
        "      for (imgs,labels) in loop:\n",
        "        optimizer.zero_grad()\n",
        "        imgs=imgs.cuda()\n",
        "        labels=labels.cuda()\n",
        "        outputs=model(imgs)\n",
        "        loss=loss_fn(outputs.squeeze(),labels.float())\n",
        "        loss.backward()\n",
        "        optimizer.step()\n",
        "        epoch_loss=0.9*epoch_loss+0.1*loss.item()\n",
        "        loop.set_postfix(loss=epoch_loss)\n",
        "\n",
        "      acc=get_accuracy(loader_test,model)\n",
        "      print(acc)\n",
        "    for data in loader_test:\n",
        "      imgs,labels=data\n",
        "      imgs=imgs.cuda()\n",
        "      labels=labels.cuda()\n",
        "      outputs=model(imgs).squeeze()\n",
        "\n",
        "      accuracy.update(outputs,labels)\n",
        "      recall.update(outputs,labels)\n",
        "      roc.update(outputs,labels)\n",
        "      auroc.update(outputs,labels)\n",
        "      precision.update(outputs,labels)\n",
        "      conmat.update(outputs,labels)\n",
        "\n",
        "    acc_val=accuracy.compute()\n",
        "    x=conmat.compute().cpu().numpy()\n",
        "    precision_val=precision.compute()\n",
        "    recall_val=recall.compute()\n",
        "    auroc_val=auroc.compute()\n",
        "    roc_val=roc.compute()\n",
        "    a=[z.cpu().numpy() for z in roc_val[:2]]\n",
        "    roc_v.append((roc_val[0].cpu().numpy(),roc_val[1].cpu().numpy()))\n",
        "    acc_v[v]=acc_val.cpu().numpy()\n",
        "    auroc_v[v]=auroc_val.cpu().numpy()\n",
        "    precision_v[v]=precision_val\n",
        "    recall_v[v]=recall_val\n",
        "    conmat_v.append(x)\n",
        "    print(f'accuracy={acc_val} precision={precision_val}, recall={recall_val},auroc={auroc_val}')"
      ]
    },
    {
      "cell_type": "code",
      "execution_count": null,
      "metadata": {
        "id": "sq5gVe09SARD"
      },
      "outputs": [],
      "source": [
        "print(f'accuracy_mean={acc_v.mean()}')\n",
        "print(f'precision_mean={precision_v.mean()}')\n",
        "print(f'recall_mean={recall_v.mean()}')\n",
        "print(f'auroc_mean={auroc_v.mean()}')\n",
        "tpr=roc_v[0][0]\n",
        "fpr=roc_v[0][1]\n",
        "for i in range(1,k):\n",
        "  tpr+=roc_v[i][0]\n",
        "  fpr+=roc_v[i][1]\n",
        "tpr/=k\n",
        "fpr/=k\n",
        "\n",
        "#mat=np.empty((2,2))\n",
        "mat=conmat_v[0]\n",
        "for i in range(1,k):\n",
        "  mat+=conmat_v[i]\n",
        "mat=mat/k"
      ]
    },
    {
      "cell_type": "code",
      "execution_count": null,
      "metadata": {
        "id": "wkutULwDSARD"
      },
      "outputs": [],
      "source": [
        "print(mat)"
      ]
    },
    {
      "cell_type": "code",
      "execution_count": null,
      "metadata": {
        "id": "x2Ii9qEqSARD"
      },
      "outputs": [],
      "source": [
        "%matplotlib inline\n",
        "import matplotlib.pyplot as plt\n",
        "plt.plot(tpr,fpr)"
      ]
    },
    {
      "cell_type": "code",
      "execution_count": null,
      "metadata": {
        "id": "fDwUM0ajSARE"
      },
      "outputs": [],
      "source": []
    }
  ],
  "metadata": {
    "celltoolbar": "Slideshow",
    "colab": {
      "provenance": []
    },
    "kernelspec": {
      "display_name": "Python 3 (ipykernel)",
      "language": "python",
      "name": "python3"
    },
    "language_info": {
      "codemirror_mode": {
        "name": "ipython",
        "version": 3
      },
      "file_extension": ".py",
      "mimetype": "text/x-python",
      "name": "python",
      "nbconvert_exporter": "python",
      "pygments_lexer": "ipython3",
      "version": "3.11.5"
    },
    "vscode": {
      "interpreter": {
        "hash": "916dbcbb3f70747c44a77c7bcd40155683ae19c65e1c03b4aa3499c5328201f1"
      }
    }
  },
  "nbformat": 4,
  "nbformat_minor": 0
}