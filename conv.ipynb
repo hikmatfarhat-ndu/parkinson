{
 "cells": [
  {
   "attachments": {},
   "cell_type": "markdown",
   "metadata": {},
   "source": [
    "<a href=\"https://colab.research.google.com/github/hikmatfarhat-ndu/pytorch/blob/main/conv.ipynb\" target=\"_parent\"><img src=\"https://colab.research.google.com/assets/colab-badge.svg\" alt=\"Open In Colab\"/></a>"
   ]
  },
  {
   "cell_type": "code",
   "execution_count": 24,
   "metadata": {
    "id": "HTsa4o4TAkhT"
   },
   "outputs": [],
   "source": [
    "import torch\n",
    "import torch.nn as nn\n",
    "import torch.nn.functional as F\n",
    "import torchmetrics.classification\n",
    "import torchvision as vision\n",
    "import torchvision.transforms as transforms\n",
    "from torch.utils.data import DataLoader\n",
    "from torchvision.datasets import ImageFolder\n",
    "from torch.optim import SGD,Adam\n",
    "from torch.utils.data import DataLoader,Dataset, random_split\n",
    "from torchmetrics.classification import BinaryConfusionMatrix\n",
    "from tqdm import tqdm\n",
    "import numpy as np\n",
    "import matplotlib.pyplot as plt\n",
    "import seaborn as sb\n",
    "import torchmetrics \n",
    "from torchmetrics.classification import BinaryAccuracy, BinaryConfusionMatrix,\\\n",
    "                                BinaryPrecision,BinaryRecall,BinaryROC,BinaryAUROC"
   ]
  },
  {
   "cell_type": "code",
   "execution_count": 25,
   "metadata": {},
   "outputs": [],
   "source": [
    "transform = transforms.ToTensor()\n",
    "dataset=ImageFolder(\"images\",transform=transform)"
   ]
  },
  {
   "cell_type": "code",
   "execution_count": 26,
   "metadata": {},
   "outputs": [],
   "source": [
    "\n",
    "\n",
    "class Net(nn.Module):\n",
    "  def __init__(self):\n",
    "    super().__init__()\n",
    "    # input is (*,3,512,512)\n",
    "    self.model=nn.Sequential(\n",
    "      nn.Conv2d(in_channels=3,out_channels=32,kernel_size=3),\n",
    "      \n",
    "    # input is (*,32,510,510)\n",
    "      nn.MaxPool2d(kernel_size=(2,2)),\n",
    "# input is (*,32,255,255)\n",
    "      nn.Conv2d(in_channels=32,out_channels=64,kernel_size=3),\n",
    "      nn.ReLU(),\n",
    "    # input is (*,64,253,253)\n",
    "      nn.MaxPool2d(kernel_size=(2,2)),\n",
    "    # input is (*,64,126,126)\n",
    "      nn.Conv2d(in_channels=64,out_channels=128,kernel_size=3),\n",
    "      nn.ReLU(),\n",
    "    # input is (*,128,124,124)\n",
    "      nn.MaxPool2d(kernel_size=(2,2)),\n",
    "    # input is (*,128,62,62)\n",
    "      nn.Flatten(),\n",
    "    # input is (*,128x62x62)\n",
    "      nn.Linear(in_features=62*62*128,out_features=1)\n",
    "\n",
    "    )\n",
    "   \n",
    "  def forward(self,x):\n",
    "    return self.model(x)"
   ]
  },
  {
   "cell_type": "code",
   "execution_count": 27,
   "metadata": {},
   "outputs": [],
   "source": [
    "device='cuda' if torch.cuda.is_available() else 'cpu'\n"
   ]
  },
  {
   "cell_type": "code",
   "execution_count": 28,
   "metadata": {},
   "outputs": [],
   "source": [
    "\n",
    "def get_accuracy(dataloader,model):\n",
    "  accuracy=BinaryAccuracy().to(device)\n",
    "#   total=len(dataloader)*dataloader.batch_size\n",
    "#   correct=0\n",
    "  for imgs,labels in dataloader:\n",
    "    imgs,labels=imgs.to(device),labels.to(device)\n",
    "    outputs=model(imgs)\n",
    "  # torchmetrics BinaryAccuracy automatically applies sigmoid\n",
    "  # and threshold of (default) 0.5\n",
    "    accuracy.update(outputs.squeeze(),labels)\n",
    "\n",
    "  return accuracy.compute().item()"
   ]
  },
  {
   "cell_type": "code",
   "execution_count": 29,
   "metadata": {},
   "outputs": [],
   "source": [
    "\n",
    "\n",
    "\n",
    "k=3\n",
    "acc_v=np.empty(k)\n",
    "auroc_v=np.empty(k)\n",
    "precision_v=np.empty(k)\n",
    "recall_v=np.empty(k)\n",
    "roc_v=[]\n",
    "conmat_v=[]"
   ]
  },
  {
   "cell_type": "code",
   "execution_count": 30,
   "metadata": {},
   "outputs": [
    {
     "name": "stdout",
     "output_type": "stream",
     "text": [
      "Fold 0\n",
      "---------------------\n",
      "---------------------\n"
     ]
    },
    {
     "name": "stderr",
     "output_type": "stream",
     "text": [
      "Epoch [1/30]: 100%|██████████| 5/5 [00:00<00:00,  6.13it/s, loss=0.491] \n"
     ]
    },
    {
     "name": "stdout",
     "output_type": "stream",
     "text": [
      "0.625\n"
     ]
    },
    {
     "name": "stderr",
     "output_type": "stream",
     "text": [
      "Epoch [2/30]: 100%|██████████| 5/5 [00:00<00:00,  6.36it/s, loss=0.321] \n"
     ]
    },
    {
     "name": "stdout",
     "output_type": "stream",
     "text": [
      "0.4375\n"
     ]
    },
    {
     "name": "stderr",
     "output_type": "stream",
     "text": [
      "Epoch [3/30]: 100%|██████████| 5/5 [00:00<00:00,  6.42it/s, loss=0.266] \n"
     ]
    },
    {
     "name": "stdout",
     "output_type": "stream",
     "text": [
      "0.71875\n"
     ]
    },
    {
     "name": "stderr",
     "output_type": "stream",
     "text": [
      "Epoch [4/30]: 100%|██████████| 5/5 [00:00<00:00,  6.33it/s, loss=0.264] \n"
     ]
    },
    {
     "name": "stdout",
     "output_type": "stream",
     "text": [
      "0.78125\n"
     ]
    },
    {
     "name": "stderr",
     "output_type": "stream",
     "text": [
      "Epoch [5/30]: 100%|██████████| 5/5 [00:00<00:00,  6.31it/s, loss=0.27]  \n"
     ]
    },
    {
     "name": "stdout",
     "output_type": "stream",
     "text": [
      "0.625\n"
     ]
    },
    {
     "name": "stderr",
     "output_type": "stream",
     "text": [
      "Epoch [6/30]: 100%|██████████| 5/5 [00:00<00:00,  6.32it/s, loss=0.209] \n"
     ]
    },
    {
     "name": "stdout",
     "output_type": "stream",
     "text": [
      "0.78125\n"
     ]
    },
    {
     "name": "stderr",
     "output_type": "stream",
     "text": [
      "Epoch [7/30]: 100%|██████████| 5/5 [00:00<00:00,  6.31it/s, loss=0.166] \n"
     ]
    },
    {
     "name": "stdout",
     "output_type": "stream",
     "text": [
      "0.78125\n"
     ]
    },
    {
     "name": "stderr",
     "output_type": "stream",
     "text": [
      "Epoch [8/30]: 100%|██████████| 5/5 [00:00<00:00,  6.32it/s, loss=0.198] \n"
     ]
    },
    {
     "name": "stdout",
     "output_type": "stream",
     "text": [
      "0.84375\n"
     ]
    },
    {
     "name": "stderr",
     "output_type": "stream",
     "text": [
      "Epoch [9/30]: 100%|██████████| 5/5 [00:00<00:00,  5.78it/s, loss=0.199] \n"
     ]
    },
    {
     "name": "stdout",
     "output_type": "stream",
     "text": [
      "0.8125\n"
     ]
    },
    {
     "name": "stderr",
     "output_type": "stream",
     "text": [
      "Epoch [10/30]: 100%|██████████| 5/5 [00:00<00:00,  6.24it/s, loss=0.201] \n"
     ]
    },
    {
     "name": "stdout",
     "output_type": "stream",
     "text": [
      "0.8125\n"
     ]
    },
    {
     "name": "stderr",
     "output_type": "stream",
     "text": [
      "Epoch [11/30]: 100%|██████████| 5/5 [00:00<00:00,  6.27it/s, loss=0.178] \n"
     ]
    },
    {
     "name": "stdout",
     "output_type": "stream",
     "text": [
      "0.78125\n"
     ]
    },
    {
     "name": "stderr",
     "output_type": "stream",
     "text": [
      "Epoch [12/30]: 100%|██████████| 5/5 [00:00<00:00,  6.28it/s, loss=0.159] \n"
     ]
    },
    {
     "name": "stdout",
     "output_type": "stream",
     "text": [
      "0.71875\n"
     ]
    },
    {
     "name": "stderr",
     "output_type": "stream",
     "text": [
      "Epoch [13/30]: 100%|██████████| 5/5 [00:00<00:00,  6.23it/s, loss=0.17]  \n"
     ]
    },
    {
     "name": "stdout",
     "output_type": "stream",
     "text": [
      "0.8125\n"
     ]
    },
    {
     "name": "stderr",
     "output_type": "stream",
     "text": [
      "Epoch [14/30]: 100%|██████████| 5/5 [00:00<00:00,  6.37it/s, loss=0.146] \n"
     ]
    },
    {
     "name": "stdout",
     "output_type": "stream",
     "text": [
      "0.8125\n"
     ]
    },
    {
     "name": "stderr",
     "output_type": "stream",
     "text": [
      "Epoch [15/30]: 100%|██████████| 5/5 [00:00<00:00,  6.30it/s, loss=0.146] \n"
     ]
    },
    {
     "name": "stdout",
     "output_type": "stream",
     "text": [
      "0.8125\n"
     ]
    },
    {
     "name": "stderr",
     "output_type": "stream",
     "text": [
      "Epoch [16/30]: 100%|██████████| 5/5 [00:00<00:00,  6.31it/s, loss=0.151] \n"
     ]
    },
    {
     "name": "stdout",
     "output_type": "stream",
     "text": [
      "0.78125\n"
     ]
    },
    {
     "name": "stderr",
     "output_type": "stream",
     "text": [
      "Epoch [17/30]: 100%|██████████| 5/5 [00:00<00:00,  6.32it/s, loss=0.107] \n"
     ]
    },
    {
     "name": "stdout",
     "output_type": "stream",
     "text": [
      "0.8125\n"
     ]
    },
    {
     "name": "stderr",
     "output_type": "stream",
     "text": [
      "Epoch [18/30]: 100%|██████████| 5/5 [00:00<00:00,  5.98it/s, loss=0.116] \n"
     ]
    },
    {
     "name": "stdout",
     "output_type": "stream",
     "text": [
      "0.8125\n"
     ]
    },
    {
     "name": "stderr",
     "output_type": "stream",
     "text": [
      "Epoch [19/30]: 100%|██████████| 5/5 [00:00<00:00,  6.19it/s, loss=0.111] \n"
     ]
    },
    {
     "name": "stdout",
     "output_type": "stream",
     "text": [
      "0.8125\n"
     ]
    },
    {
     "name": "stderr",
     "output_type": "stream",
     "text": [
      "Epoch [20/30]: 100%|██████████| 5/5 [00:00<00:00,  6.32it/s, loss=0.118] \n"
     ]
    },
    {
     "name": "stdout",
     "output_type": "stream",
     "text": [
      "0.8125\n"
     ]
    },
    {
     "name": "stderr",
     "output_type": "stream",
     "text": [
      "Epoch [21/30]: 100%|██████████| 5/5 [00:00<00:00,  6.33it/s, loss=0.131] \n"
     ]
    },
    {
     "name": "stdout",
     "output_type": "stream",
     "text": [
      "0.8125\n"
     ]
    },
    {
     "name": "stderr",
     "output_type": "stream",
     "text": [
      "Epoch [22/30]: 100%|██████████| 5/5 [00:00<00:00,  6.32it/s, loss=0.13]  \n"
     ]
    },
    {
     "name": "stdout",
     "output_type": "stream",
     "text": [
      "0.78125\n"
     ]
    },
    {
     "name": "stderr",
     "output_type": "stream",
     "text": [
      "Epoch [23/30]: 100%|██████████| 5/5 [00:00<00:00,  6.14it/s, loss=0.191] \n"
     ]
    },
    {
     "name": "stdout",
     "output_type": "stream",
     "text": [
      "0.75\n"
     ]
    },
    {
     "name": "stderr",
     "output_type": "stream",
     "text": [
      "Epoch [24/30]: 100%|██████████| 5/5 [00:00<00:00,  6.34it/s, loss=0.121] \n"
     ]
    },
    {
     "name": "stdout",
     "output_type": "stream",
     "text": [
      "0.78125\n"
     ]
    },
    {
     "name": "stderr",
     "output_type": "stream",
     "text": [
      "Epoch [25/30]: 100%|██████████| 5/5 [00:00<00:00,  6.25it/s, loss=0.126] \n"
     ]
    },
    {
     "name": "stdout",
     "output_type": "stream",
     "text": [
      "0.8125\n"
     ]
    },
    {
     "name": "stderr",
     "output_type": "stream",
     "text": [
      "Epoch [26/30]: 100%|██████████| 5/5 [00:00<00:00,  6.27it/s, loss=0.168] \n"
     ]
    },
    {
     "name": "stdout",
     "output_type": "stream",
     "text": [
      "0.78125\n"
     ]
    },
    {
     "name": "stderr",
     "output_type": "stream",
     "text": [
      "Epoch [27/30]: 100%|██████████| 5/5 [00:00<00:00,  6.32it/s, loss=0.17]  \n"
     ]
    },
    {
     "name": "stdout",
     "output_type": "stream",
     "text": [
      "0.8125\n"
     ]
    },
    {
     "name": "stderr",
     "output_type": "stream",
     "text": [
      "Epoch [28/30]: 100%|██████████| 5/5 [00:00<00:00,  6.32it/s, loss=0.116] \n"
     ]
    },
    {
     "name": "stdout",
     "output_type": "stream",
     "text": [
      "0.78125\n"
     ]
    },
    {
     "name": "stderr",
     "output_type": "stream",
     "text": [
      "Epoch [29/30]: 100%|██████████| 5/5 [00:00<00:00,  6.42it/s, loss=0.102] \n"
     ]
    },
    {
     "name": "stdout",
     "output_type": "stream",
     "text": [
      "0.8125\n"
     ]
    },
    {
     "name": "stderr",
     "output_type": "stream",
     "text": [
      "Epoch [30/30]: 100%|██████████| 5/5 [00:00<00:00,  6.33it/s, loss=0.111] \n"
     ]
    },
    {
     "name": "stdout",
     "output_type": "stream",
     "text": [
      "0.78125\n",
      "accuracy=0.78125 precision=0.8823529481887817, recall=0.75,auroc=0.9041666388511658\n",
      "Fold 1\n",
      "---------------------\n",
      "---------------------\n"
     ]
    },
    {
     "name": "stderr",
     "output_type": "stream",
     "text": [
      "Epoch [1/30]: 100%|██████████| 5/5 [00:00<00:00,  6.44it/s, loss=0.391] \n"
     ]
    },
    {
     "name": "stdout",
     "output_type": "stream",
     "text": [
      "0.5\n"
     ]
    },
    {
     "name": "stderr",
     "output_type": "stream",
     "text": [
      "Epoch [2/30]: 100%|██████████| 5/5 [00:00<00:00,  6.21it/s, loss=0.296] \n"
     ]
    },
    {
     "name": "stdout",
     "output_type": "stream",
     "text": [
      "0.5625\n"
     ]
    },
    {
     "name": "stderr",
     "output_type": "stream",
     "text": [
      "Epoch [3/30]: 100%|██████████| 5/5 [00:00<00:00,  6.43it/s, loss=0.274] \n"
     ]
    },
    {
     "name": "stdout",
     "output_type": "stream",
     "text": [
      "0.59375\n"
     ]
    },
    {
     "name": "stderr",
     "output_type": "stream",
     "text": [
      "Epoch [4/30]: 100%|██████████| 5/5 [00:00<00:00,  6.44it/s, loss=0.321] \n"
     ]
    },
    {
     "name": "stdout",
     "output_type": "stream",
     "text": [
      "0.6875\n"
     ]
    },
    {
     "name": "stderr",
     "output_type": "stream",
     "text": [
      "Epoch [5/30]: 100%|██████████| 5/5 [00:00<00:00,  6.28it/s, loss=0.259] \n"
     ]
    },
    {
     "name": "stdout",
     "output_type": "stream",
     "text": [
      "0.6875\n"
     ]
    },
    {
     "name": "stderr",
     "output_type": "stream",
     "text": [
      "Epoch [6/30]: 100%|██████████| 5/5 [00:00<00:00,  6.31it/s, loss=0.248] \n"
     ]
    },
    {
     "name": "stdout",
     "output_type": "stream",
     "text": [
      "0.875\n"
     ]
    },
    {
     "name": "stderr",
     "output_type": "stream",
     "text": [
      "Epoch [7/30]: 100%|██████████| 5/5 [00:00<00:00,  6.26it/s, loss=0.231] \n"
     ]
    },
    {
     "name": "stdout",
     "output_type": "stream",
     "text": [
      "0.9375\n"
     ]
    },
    {
     "name": "stderr",
     "output_type": "stream",
     "text": [
      "Epoch [8/30]: 100%|██████████| 5/5 [00:00<00:00,  6.27it/s, loss=0.207] \n"
     ]
    },
    {
     "name": "stdout",
     "output_type": "stream",
     "text": [
      "0.84375\n"
     ]
    },
    {
     "name": "stderr",
     "output_type": "stream",
     "text": [
      "Epoch [9/30]: 100%|██████████| 5/5 [00:00<00:00,  6.22it/s, loss=0.2]   \n"
     ]
    },
    {
     "name": "stdout",
     "output_type": "stream",
     "text": [
      "0.9375\n"
     ]
    },
    {
     "name": "stderr",
     "output_type": "stream",
     "text": [
      "Epoch [10/30]: 100%|██████████| 5/5 [00:00<00:00,  6.48it/s, loss=0.187] \n"
     ]
    },
    {
     "name": "stdout",
     "output_type": "stream",
     "text": [
      "0.9375\n"
     ]
    },
    {
     "name": "stderr",
     "output_type": "stream",
     "text": [
      "Epoch [11/30]: 100%|██████████| 5/5 [00:00<00:00,  6.26it/s, loss=0.268] \n"
     ]
    },
    {
     "name": "stdout",
     "output_type": "stream",
     "text": [
      "0.90625\n"
     ]
    },
    {
     "name": "stderr",
     "output_type": "stream",
     "text": [
      "Epoch [12/30]: 100%|██████████| 5/5 [00:00<00:00,  6.29it/s, loss=0.249]\n"
     ]
    },
    {
     "name": "stdout",
     "output_type": "stream",
     "text": [
      "0.8125\n"
     ]
    },
    {
     "name": "stderr",
     "output_type": "stream",
     "text": [
      "Epoch [13/30]: 100%|██████████| 5/5 [00:00<00:00,  6.28it/s, loss=0.189] \n"
     ]
    },
    {
     "name": "stdout",
     "output_type": "stream",
     "text": [
      "0.875\n"
     ]
    },
    {
     "name": "stderr",
     "output_type": "stream",
     "text": [
      "Epoch [14/30]: 100%|██████████| 5/5 [00:00<00:00,  6.29it/s, loss=0.221] \n"
     ]
    },
    {
     "name": "stdout",
     "output_type": "stream",
     "text": [
      "0.90625\n"
     ]
    },
    {
     "name": "stderr",
     "output_type": "stream",
     "text": [
      "Epoch [15/30]: 100%|██████████| 5/5 [00:00<00:00,  6.30it/s, loss=0.173] \n"
     ]
    },
    {
     "name": "stdout",
     "output_type": "stream",
     "text": [
      "0.90625\n"
     ]
    },
    {
     "name": "stderr",
     "output_type": "stream",
     "text": [
      "Epoch [16/30]: 100%|██████████| 5/5 [00:00<00:00,  6.25it/s, loss=0.192] \n"
     ]
    },
    {
     "name": "stdout",
     "output_type": "stream",
     "text": [
      "0.9375\n"
     ]
    },
    {
     "name": "stderr",
     "output_type": "stream",
     "text": [
      "Epoch [17/30]: 100%|██████████| 5/5 [00:00<00:00,  6.31it/s, loss=0.17]  \n"
     ]
    },
    {
     "name": "stdout",
     "output_type": "stream",
     "text": [
      "0.84375\n"
     ]
    },
    {
     "name": "stderr",
     "output_type": "stream",
     "text": [
      "Epoch [18/30]: 100%|██████████| 5/5 [00:00<00:00,  6.39it/s, loss=0.137] \n"
     ]
    },
    {
     "name": "stdout",
     "output_type": "stream",
     "text": [
      "0.9375\n"
     ]
    },
    {
     "name": "stderr",
     "output_type": "stream",
     "text": [
      "Epoch [19/30]: 100%|██████████| 5/5 [00:00<00:00,  6.26it/s, loss=0.199] \n"
     ]
    },
    {
     "name": "stdout",
     "output_type": "stream",
     "text": [
      "0.90625\n"
     ]
    },
    {
     "name": "stderr",
     "output_type": "stream",
     "text": [
      "Epoch [20/30]: 100%|██████████| 5/5 [00:00<00:00,  6.25it/s, loss=0.136] \n"
     ]
    },
    {
     "name": "stdout",
     "output_type": "stream",
     "text": [
      "0.78125\n"
     ]
    },
    {
     "name": "stderr",
     "output_type": "stream",
     "text": [
      "Epoch [21/30]: 100%|██████████| 5/5 [00:00<00:00,  6.34it/s, loss=0.188] \n"
     ]
    },
    {
     "name": "stdout",
     "output_type": "stream",
     "text": [
      "0.875\n"
     ]
    },
    {
     "name": "stderr",
     "output_type": "stream",
     "text": [
      "Epoch [22/30]: 100%|██████████| 5/5 [00:00<00:00,  6.34it/s, loss=0.152] \n"
     ]
    },
    {
     "name": "stdout",
     "output_type": "stream",
     "text": [
      "0.9375\n"
     ]
    },
    {
     "name": "stderr",
     "output_type": "stream",
     "text": [
      "Epoch [23/30]: 100%|██████████| 5/5 [00:00<00:00,  6.15it/s, loss=0.166] \n"
     ]
    },
    {
     "name": "stdout",
     "output_type": "stream",
     "text": [
      "0.875\n"
     ]
    },
    {
     "name": "stderr",
     "output_type": "stream",
     "text": [
      "Epoch [24/30]: 100%|██████████| 5/5 [00:00<00:00,  6.28it/s, loss=0.246] \n"
     ]
    },
    {
     "name": "stdout",
     "output_type": "stream",
     "text": [
      "0.90625\n"
     ]
    },
    {
     "name": "stderr",
     "output_type": "stream",
     "text": [
      "Epoch [25/30]: 100%|██████████| 5/5 [00:00<00:00,  6.29it/s, loss=0.187] \n"
     ]
    },
    {
     "name": "stdout",
     "output_type": "stream",
     "text": [
      "0.84375\n"
     ]
    },
    {
     "name": "stderr",
     "output_type": "stream",
     "text": [
      "Epoch [26/30]: 100%|██████████| 5/5 [00:00<00:00,  6.20it/s, loss=0.206] \n"
     ]
    },
    {
     "name": "stdout",
     "output_type": "stream",
     "text": [
      "0.90625\n"
     ]
    },
    {
     "name": "stderr",
     "output_type": "stream",
     "text": [
      "Epoch [27/30]: 100%|██████████| 5/5 [00:00<00:00,  6.25it/s, loss=0.254] \n"
     ]
    },
    {
     "name": "stdout",
     "output_type": "stream",
     "text": [
      "0.875\n"
     ]
    },
    {
     "name": "stderr",
     "output_type": "stream",
     "text": [
      "Epoch [28/30]: 100%|██████████| 5/5 [00:00<00:00,  6.35it/s, loss=0.16]  \n"
     ]
    },
    {
     "name": "stdout",
     "output_type": "stream",
     "text": [
      "0.875\n"
     ]
    },
    {
     "name": "stderr",
     "output_type": "stream",
     "text": [
      "Epoch [29/30]: 100%|██████████| 5/5 [00:00<00:00,  6.28it/s, loss=0.222] \n"
     ]
    },
    {
     "name": "stdout",
     "output_type": "stream",
     "text": [
      "0.9375\n"
     ]
    },
    {
     "name": "stderr",
     "output_type": "stream",
     "text": [
      "Epoch [30/30]: 100%|██████████| 5/5 [00:00<00:00,  6.26it/s, loss=0.152] \n"
     ]
    },
    {
     "name": "stdout",
     "output_type": "stream",
     "text": [
      "0.9375\n",
      "accuracy=0.9375 precision=0.9375, recall=0.9375,auroc=0.97265625\n",
      "Fold 2\n",
      "---------------------\n",
      "---------------------\n"
     ]
    },
    {
     "name": "stderr",
     "output_type": "stream",
     "text": [
      "Epoch [1/30]: 100%|██████████| 5/5 [00:00<00:00,  6.33it/s, loss=0.453] \n"
     ]
    },
    {
     "name": "stdout",
     "output_type": "stream",
     "text": [
      "0.53125\n"
     ]
    },
    {
     "name": "stderr",
     "output_type": "stream",
     "text": [
      "Epoch [2/30]: 100%|██████████| 5/5 [00:00<00:00,  6.10it/s, loss=0.293] \n"
     ]
    },
    {
     "name": "stdout",
     "output_type": "stream",
     "text": [
      "0.46875\n"
     ]
    },
    {
     "name": "stderr",
     "output_type": "stream",
     "text": [
      "Epoch [3/30]: 100%|██████████| 5/5 [00:00<00:00,  6.28it/s, loss=0.293] \n"
     ]
    },
    {
     "name": "stdout",
     "output_type": "stream",
     "text": [
      "0.6875\n"
     ]
    },
    {
     "name": "stderr",
     "output_type": "stream",
     "text": [
      "Epoch [4/30]: 100%|██████████| 5/5 [00:00<00:00,  6.13it/s, loss=0.25]  \n"
     ]
    },
    {
     "name": "stdout",
     "output_type": "stream",
     "text": [
      "0.5\n"
     ]
    },
    {
     "name": "stderr",
     "output_type": "stream",
     "text": [
      "Epoch [5/30]: 100%|██████████| 5/5 [00:00<00:00,  6.35it/s, loss=0.205] \n"
     ]
    },
    {
     "name": "stdout",
     "output_type": "stream",
     "text": [
      "0.8125\n"
     ]
    },
    {
     "name": "stderr",
     "output_type": "stream",
     "text": [
      "Epoch [6/30]: 100%|██████████| 5/5 [00:00<00:00,  6.29it/s, loss=0.234] \n"
     ]
    },
    {
     "name": "stdout",
     "output_type": "stream",
     "text": [
      "0.78125\n"
     ]
    },
    {
     "name": "stderr",
     "output_type": "stream",
     "text": [
      "Epoch [7/30]: 100%|██████████| 5/5 [00:00<00:00,  6.38it/s, loss=0.165] \n"
     ]
    },
    {
     "name": "stdout",
     "output_type": "stream",
     "text": [
      "0.78125\n"
     ]
    },
    {
     "name": "stderr",
     "output_type": "stream",
     "text": [
      "Epoch [8/30]: 100%|██████████| 5/5 [00:00<00:00,  6.25it/s, loss=0.191] \n"
     ]
    },
    {
     "name": "stdout",
     "output_type": "stream",
     "text": [
      "0.71875\n"
     ]
    },
    {
     "name": "stderr",
     "output_type": "stream",
     "text": [
      "Epoch [9/30]: 100%|██████████| 5/5 [00:00<00:00,  6.25it/s, loss=0.166] \n"
     ]
    },
    {
     "name": "stdout",
     "output_type": "stream",
     "text": [
      "0.8125\n"
     ]
    },
    {
     "name": "stderr",
     "output_type": "stream",
     "text": [
      "Epoch [10/30]: 100%|██████████| 5/5 [00:00<00:00,  6.35it/s, loss=0.157] \n"
     ]
    },
    {
     "name": "stdout",
     "output_type": "stream",
     "text": [
      "0.8125\n"
     ]
    },
    {
     "name": "stderr",
     "output_type": "stream",
     "text": [
      "Epoch [11/30]: 100%|██████████| 5/5 [00:00<00:00,  6.10it/s, loss=0.259] \n"
     ]
    },
    {
     "name": "stdout",
     "output_type": "stream",
     "text": [
      "0.8125\n"
     ]
    },
    {
     "name": "stderr",
     "output_type": "stream",
     "text": [
      "Epoch [12/30]: 100%|██████████| 5/5 [00:00<00:00,  6.30it/s, loss=0.189] \n"
     ]
    },
    {
     "name": "stdout",
     "output_type": "stream",
     "text": [
      "0.75\n"
     ]
    },
    {
     "name": "stderr",
     "output_type": "stream",
     "text": [
      "Epoch [13/30]: 100%|██████████| 5/5 [00:00<00:00,  6.23it/s, loss=0.286] \n"
     ]
    },
    {
     "name": "stdout",
     "output_type": "stream",
     "text": [
      "0.75\n"
     ]
    },
    {
     "name": "stderr",
     "output_type": "stream",
     "text": [
      "Epoch [14/30]: 100%|██████████| 5/5 [00:00<00:00,  6.29it/s, loss=0.172] \n"
     ]
    },
    {
     "name": "stdout",
     "output_type": "stream",
     "text": [
      "0.71875\n"
     ]
    },
    {
     "name": "stderr",
     "output_type": "stream",
     "text": [
      "Epoch [15/30]: 100%|██████████| 5/5 [00:00<00:00,  6.17it/s, loss=0.199] \n"
     ]
    },
    {
     "name": "stdout",
     "output_type": "stream",
     "text": [
      "0.71875\n"
     ]
    },
    {
     "name": "stderr",
     "output_type": "stream",
     "text": [
      "Epoch [16/30]: 100%|██████████| 5/5 [00:00<00:00,  6.31it/s, loss=0.156] \n"
     ]
    },
    {
     "name": "stdout",
     "output_type": "stream",
     "text": [
      "0.78125\n"
     ]
    },
    {
     "name": "stderr",
     "output_type": "stream",
     "text": [
      "Epoch [17/30]: 100%|██████████| 5/5 [00:00<00:00,  6.40it/s, loss=0.116] \n"
     ]
    },
    {
     "name": "stdout",
     "output_type": "stream",
     "text": [
      "0.8125\n"
     ]
    },
    {
     "name": "stderr",
     "output_type": "stream",
     "text": [
      "Epoch [18/30]: 100%|██████████| 5/5 [00:00<00:00,  6.21it/s, loss=0.119] \n"
     ]
    },
    {
     "name": "stdout",
     "output_type": "stream",
     "text": [
      "0.8125\n"
     ]
    },
    {
     "name": "stderr",
     "output_type": "stream",
     "text": [
      "Epoch [19/30]: 100%|██████████| 5/5 [00:00<00:00,  6.19it/s, loss=0.153] \n"
     ]
    },
    {
     "name": "stdout",
     "output_type": "stream",
     "text": [
      "0.71875\n"
     ]
    },
    {
     "name": "stderr",
     "output_type": "stream",
     "text": [
      "Epoch [20/30]: 100%|██████████| 5/5 [00:00<00:00,  6.14it/s, loss=0.135] \n"
     ]
    },
    {
     "name": "stdout",
     "output_type": "stream",
     "text": [
      "0.84375\n"
     ]
    },
    {
     "name": "stderr",
     "output_type": "stream",
     "text": [
      "Epoch [21/30]: 100%|██████████| 5/5 [00:00<00:00,  6.37it/s, loss=0.164] \n"
     ]
    },
    {
     "name": "stdout",
     "output_type": "stream",
     "text": [
      "0.75\n"
     ]
    },
    {
     "name": "stderr",
     "output_type": "stream",
     "text": [
      "Epoch [22/30]: 100%|██████████| 5/5 [00:00<00:00,  6.39it/s, loss=0.146] \n"
     ]
    },
    {
     "name": "stdout",
     "output_type": "stream",
     "text": [
      "0.71875\n"
     ]
    },
    {
     "name": "stderr",
     "output_type": "stream",
     "text": [
      "Epoch [23/30]: 100%|██████████| 5/5 [00:00<00:00,  6.40it/s, loss=0.14]  \n"
     ]
    },
    {
     "name": "stdout",
     "output_type": "stream",
     "text": [
      "0.8125\n"
     ]
    },
    {
     "name": "stderr",
     "output_type": "stream",
     "text": [
      "Epoch [24/30]: 100%|██████████| 5/5 [00:00<00:00,  6.25it/s, loss=0.151] \n"
     ]
    },
    {
     "name": "stdout",
     "output_type": "stream",
     "text": [
      "0.75\n"
     ]
    },
    {
     "name": "stderr",
     "output_type": "stream",
     "text": [
      "Epoch [25/30]: 100%|██████████| 5/5 [00:00<00:00,  6.33it/s, loss=0.133] \n"
     ]
    },
    {
     "name": "stdout",
     "output_type": "stream",
     "text": [
      "0.8125\n"
     ]
    },
    {
     "name": "stderr",
     "output_type": "stream",
     "text": [
      "Epoch [26/30]: 100%|██████████| 5/5 [00:00<00:00,  6.36it/s, loss=0.124] \n"
     ]
    },
    {
     "name": "stdout",
     "output_type": "stream",
     "text": [
      "0.84375\n"
     ]
    },
    {
     "name": "stderr",
     "output_type": "stream",
     "text": [
      "Epoch [27/30]: 100%|██████████| 5/5 [00:00<00:00,  6.28it/s, loss=0.108] \n"
     ]
    },
    {
     "name": "stdout",
     "output_type": "stream",
     "text": [
      "0.71875\n"
     ]
    },
    {
     "name": "stderr",
     "output_type": "stream",
     "text": [
      "Epoch [28/30]: 100%|██████████| 5/5 [00:00<00:00,  6.26it/s, loss=0.107] \n"
     ]
    },
    {
     "name": "stdout",
     "output_type": "stream",
     "text": [
      "0.84375\n"
     ]
    },
    {
     "name": "stderr",
     "output_type": "stream",
     "text": [
      "Epoch [29/30]: 100%|██████████| 5/5 [00:00<00:00,  6.21it/s, loss=0.107] \n"
     ]
    },
    {
     "name": "stdout",
     "output_type": "stream",
     "text": [
      "0.78125\n"
     ]
    },
    {
     "name": "stderr",
     "output_type": "stream",
     "text": [
      "Epoch [30/30]: 100%|██████████| 5/5 [00:00<00:00,  6.38it/s, loss=0.13]  \n"
     ]
    },
    {
     "name": "stdout",
     "output_type": "stream",
     "text": [
      "0.84375\n",
      "accuracy=0.84375 precision=0.9166666865348816, recall=0.7333333492279053,auroc=0.8666666746139526\n"
     ]
    }
   ],
   "source": [
    "for v in range(k):\n",
    "    accuracy=BinaryAccuracy().to(device)\n",
    "    conmat=BinaryConfusionMatrix().to(device)\n",
    "    precision=BinaryPrecision().to(device)\n",
    "    recall=BinaryRecall().to(device=device)\n",
    "    roc=BinaryROC().to(device=device)\n",
    "    auroc=BinaryAUROC().to(device=device)\n",
    "    print(f'Fold {v}')\n",
    "    print('---------------------')\n",
    "    print('---------------------')\n",
    "    model=Net().to(device)\n",
    "    optimizer=Adam(model.parameters())\n",
    "    loss_fn=nn.BCEWithLogitsLoss()\n",
    "    epochs=30\n",
    "    dataset_train,dataset_test=random_split(dataset,lengths=[0.8,0.2])\n",
    "    loader_train=DataLoader(dataset_train,batch_size=32,shuffle=True,num_workers=2)\n",
    "    loader_test=DataLoader(dataset_test,batch_size=16,shuffle=False)\n",
    "\n",
    "    for epoch in range(epochs):\n",
    "      loop=tqdm(loader_train)\n",
    "      loop.set_description(f\"Epoch [{epoch+1}/{epochs}]\")\n",
    "      epoch_loss=0.\n",
    "      for (imgs,labels) in loop:\n",
    "        optimizer.zero_grad()\n",
    "        imgs=imgs.cuda()\n",
    "        labels=labels.cuda()\n",
    "        outputs=model(imgs)\n",
    "        loss=loss_fn(outputs.squeeze(),labels.float())\n",
    "        loss.backward()\n",
    "        optimizer.step()\n",
    "        epoch_loss=0.9*epoch_loss+0.1*loss.item()\n",
    "        loop.set_postfix(loss=epoch_loss)\n",
    "    \n",
    "      acc=get_accuracy(loader_test,model)\n",
    "      print(acc)\n",
    "    for data in loader_test:\n",
    "      imgs,labels=data\n",
    "      imgs=imgs.cuda()\n",
    "      labels=labels.cuda()\n",
    "      outputs=model(imgs).squeeze()\n",
    "\n",
    "      accuracy.update(outputs,labels)\n",
    "      recall.update(outputs,labels)\n",
    "      roc.update(outputs,labels)\n",
    "      auroc.update(outputs,labels)\n",
    "      precision.update(outputs,labels)\n",
    "      conmat.update(outputs,labels)\n",
    "\n",
    "    acc_val=accuracy.compute()\n",
    "    x=conmat.compute().cpu().numpy()\n",
    "    precision_val=precision.compute()\n",
    "    recall_val=recall.compute()\n",
    "    auroc_val=auroc.compute()\n",
    "    roc_val=roc.compute()\n",
    "    a=[z.cpu().numpy() for z in roc_val[:2]]\n",
    "    roc_v.append((roc_val[0].cpu().numpy(),roc_val[1].cpu().numpy()))\n",
    "    acc_v[v]=acc_val.cpu().numpy()\n",
    "    auroc_v[v]=auroc_val.cpu().numpy()\n",
    "    precision_v[v]=precision_val\n",
    "    recall_v[v]=recall_val\n",
    "    conmat_v.append(x)\n",
    "    print(f'accuracy={acc_val} precision={precision_val}, recall={recall_val},auroc={auroc_val}')"
   ]
  },
  {
   "cell_type": "code",
   "execution_count": 31,
   "metadata": {},
   "outputs": [
    {
     "name": "stdout",
     "output_type": "stream",
     "text": [
      "accuracy_mean=0.8541666666666666\n",
      "precision_mean=0.9121732115745544\n",
      "recall_mean=0.8069444497426351\n",
      "auroc_mean=0.9144965211550394\n"
     ]
    }
   ],
   "source": [
    "print(f'accuracy_mean={acc_v.mean()}')\n",
    "print(f'precision_mean={precision_v.mean()}')\n",
    "print(f'recall_mean={recall_v.mean()}')\n",
    "print(f'auroc_mean={auroc_v.mean()}')\n",
    "tpr=roc_v[0][0]\n",
    "fpr=roc_v[0][1]\n",
    "for i in range(1,k):\n",
    "  tpr+=roc_v[i][0]\n",
    "  fpr+=roc_v[i][1]\n",
    "tpr/=k\n",
    "fpr/=k\n",
    "\n",
    "#mat=np.empty((2,2))\n",
    "mat=conmat_v[0]\n",
    "for i in range(1,k):\n",
    "  mat+=conmat_v[i]\n",
    "mat=mat/k"
   ]
  },
  {
   "cell_type": "code",
   "execution_count": 36,
   "metadata": {},
   "outputs": [
    {
     "name": "stdout",
     "output_type": "stream",
     "text": [
      "[[13.66666667  1.33333333]\n",
      " [ 3.33333333 13.66666667]]\n"
     ]
    }
   ],
   "source": [
    "print(mat)"
   ]
  },
  {
   "cell_type": "code",
   "execution_count": 35,
   "metadata": {},
   "outputs": [
    {
     "data": {
      "text/plain": [
       "[<matplotlib.lines.Line2D at 0x7fc15e70aa10>]"
      ]
     },
     "execution_count": 35,
     "metadata": {},
     "output_type": "execute_result"
    },
    {
     "data": {
      "image/png": "[encoded data removed]",
      "text/plain": [
       "<Figure size 640x480 with 1 Axes>"
      ]
     },
     "metadata": {},
     "output_type": "display_data"
    }
   ],
   "source": [
    "%matplotlib inline\n",
    "import matplotlib.pyplot as plt\n",
    "plt.plot(tpr,fpr)"
   ]
  },
  {
   "cell_type": "code",
   "execution_count": null,
   "metadata": {},
   "outputs": [],
   "source": []
  }
 ],
 "metadata": {
  "celltoolbar": "Slideshow",
  "colab": {
   "provenance": []
  },
  "kernelspec": {
   "display_name": "Python 3 (ipykernel)",
   "language": "python",
   "name": "python3"
  },
  "language_info": {
   "codemirror_mode": {
    "name": "ipython",
    "version": 3
   },
   "file_extension": ".py",
   "mimetype": "text/x-python",
   "name": "python",
   "nbconvert_exporter": "python",
   "pygments_lexer": "ipython3",
   "version": "3.11.5"
  },
  "vscode": {
   "interpreter": {
    "hash": "916dbcbb3f70747c44a77c7bcd40155683ae19c65e1c03b4aa3499c5328201f1"
   }
  }
 },
 "nbformat": 4,
 "nbformat_minor": 1
}
